{
 "cells": [
  {
   "cell_type": "code",
   "execution_count": 3,
   "id": "3a4340a7",
   "metadata": {},
   "outputs": [],
   "source": [
    "import scipy as sp\n",
    "from scipy import io\n",
    "import pandas as pd\n",
    "import numpy as np"
   ]
  },
  {
   "cell_type": "code",
   "execution_count": 4,
   "id": "6efdf7db",
   "metadata": {},
   "outputs": [
    {
     "data": {
      "text/plain": [
       "{'__header__': b'MATLAB 5.0 MAT-file, Platform: PCWIN, Created on: Fri Jan 27 11:52:09 2006', '__version__': '1.0', '__globals__': [], 'Y': array([[ 23, 250, 137, ...,  66, 245, 197],\n",
       "       [ 23, 250, 137, ...,  61, 245, 199],\n",
       "       [ 20, 250, 137, ...,  57, 245, 195],\n",
       "       ...,\n",
       "       [ 31, 244, 102, ...,  77, 107, 166],\n",
       "       [ 23, 232, 124, ...,  78, 103, 170],\n",
       "       [  9, 244, 124, ...,  78,  87, 171]], dtype=uint8)}"
      ]
     },
     "execution_count": 4,
     "metadata": {},
     "output_type": "execute_result"
    }
   ],
   "source": [
    "raw_data = sp.io.loadmat('datamatrix_2.mat')\n",
    "raw_data"
   ]
  },
  {
   "cell_type": "code",
   "execution_count": 5,
   "id": "ee99ee06",
   "metadata": {},
   "outputs": [
    {
     "data": {
      "text/plain": [
       "array([[ 23, 250, 137, ...,  66, 245, 197],\n",
       "       [ 23, 250, 137, ...,  61, 245, 199],\n",
       "       [ 20, 250, 137, ...,  57, 245, 195],\n",
       "       ...,\n",
       "       [ 31, 244, 102, ...,  77, 107, 166],\n",
       "       [ 23, 232, 124, ...,  78, 103, 170],\n",
       "       [  9, 244, 124, ...,  78,  87, 171]], dtype=uint8)"
      ]
     },
     "execution_count": 5,
     "metadata": {},
     "output_type": "execute_result"
    }
   ],
   "source": [
    "raw_data['Y']"
   ]
  },
  {
   "cell_type": "code",
   "execution_count": 7,
   "id": "4910bef2",
   "metadata": {},
   "outputs": [],
   "source": [
    "np.savetxt(\"dogs_and_cats.csv\", raw_data['Y'], delimiter=\",\")"
   ]
  },
  {
   "cell_type": "code",
   "execution_count": null,
   "id": "6229a443",
   "metadata": {},
   "outputs": [],
   "source": []
  }
 ],
 "metadata": {
  "kernelspec": {
   "display_name": "Python [conda env:rdKit]",
   "language": "python",
   "name": "conda-env-rdKit-xpython"
  },
  "language_info": {
   "file_extension": ".py",
   "mimetype": "text/x-python",
   "name": "python",
   "version": "3.6.11"
  }
 },
 "nbformat": 4,
 "nbformat_minor": 5
}
